{
 "cells": [
  {
   "cell_type": "code",
   "execution_count": null,
   "id": "c510ea11",
   "metadata": {},
   "outputs": [],
   "source": [
    "import xmltodict\n",
    "\n",
    "\n",
    "def ler_xml(nota):\n",
    "    with open(nota, 'rb') as arquivo:\n",
    "        documento = xmltodict.parse(arquivo)\n",
    "\n",
    "    caminho_padrao = documento['eSocial']['evtAdmissao']\n",
    "\n",
    "    #nome funcionario\n",
    "    nome_func = caminho_padrao['trabalhador']['nmTrab']\n",
    "    #cargo\n",
    "    cargo = caminho_padrao['vinculo']['infoContrato']['codCargo']\n",
    "    #função\n",
    "    funcao = caminho_padrao['vinculo']['infoContrato']['codFuncao']\n",
    "    #dt admissao\n",
    "    dt_adm = caminho_padrao['vinculo']['infoRegimeTrab']['infoCeletista']['dtAdm']\n",
    "    #matricula\n",
    "    matricula = caminho_padrao['vinculo']['matricula']\n",
    "    #cpf\n",
    "    cpf = caminho_padrao['trabalhador']['cpfTrab']\n",
    "\n",
    "    resposta = {\n",
    "            'nome funcionario': [nome_func],\n",
    "            'cargo': [cargo],\n",
    "            'função': [funcao],\n",
    "            'Data Admissao': [dt_adm],\n",
    "            'Matricula': [matricula],\n",
    "            'Cpf': [cpf],\n",
    "    }\n",
    "\n",
    "    return resposta\n",
    "\n",
    "import pandas as pd\n",
    "import os\n",
    "\n",
    "\n",
    "lista_arquivos = os.listdir('S2200')\n",
    "\n",
    "df_final = pd.DataFrame()\n",
    "for arquivo in lista_arquivos:\n",
    "    if 'xml' in arquivo:\n",
    "        if 'Envio' or 'envio' in arquivo:\n",
    "            print(arquivo)\n",
    "            try:\n",
    "                df = pd.DataFrame.from_dict(ler_xml(f'S2200/{arquivo}'))\n",
    "                df_final = df_final.append(df)\n",
    "            except:\n",
    "                pass\n",
    "            \n",
    "            \n",
    "        \n",
    "df_final = df_final.drop_duplicates()\n",
    "df_final.to_excel('xml.xlsx', index=False)"
   ]
  }
 ],
 "metadata": {
  "kernelspec": {
   "display_name": "Python 3 (ipykernel)",
   "language": "python",
   "name": "python3"
  },
  "language_info": {
   "codemirror_mode": {
    "name": "ipython",
    "version": 3
   },
   "file_extension": ".py",
   "mimetype": "text/x-python",
   "name": "python",
   "nbconvert_exporter": "python",
   "pygments_lexer": "ipython3",
   "version": "3.9.12"
  }
 },
 "nbformat": 4,
 "nbformat_minor": 5
}
